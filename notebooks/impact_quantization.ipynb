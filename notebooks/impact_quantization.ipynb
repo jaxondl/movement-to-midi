{
 "cells": [
  {
   "cell_type": "markdown",
   "id": "59505218",
   "metadata": {},
   "source": [
    "# Impact Quantization"
   ]
  },
  {
   "cell_type": "code",
   "execution_count": 1,
   "id": "1c74607f",
   "metadata": {
    "ExecuteTime": {
     "end_time": "2022-12-08T22:57:16.384090Z",
     "start_time": "2022-12-08T22:57:15.357185Z"
    }
   },
   "outputs": [],
   "source": [
    "# imports\n",
    "import os\n",
    "import numpy as np\n",
    "import pandas as pd\n",
    "import pickle"
   ]
  },
  {
   "cell_type": "markdown",
   "id": "466d7441",
   "metadata": {
    "heading_collapsed": true
   },
   "source": [
    "## Functions"
   ]
  },
  {
   "cell_type": "code",
   "execution_count": 2,
   "id": "fa247836",
   "metadata": {
    "ExecuteTime": {
     "end_time": "2022-12-08T22:57:16.388533Z",
     "start_time": "2022-12-08T22:57:16.385407Z"
    },
    "hidden": true
   },
   "outputs": [],
   "source": [
    "# function to quantize impact points\n",
    "def quantize_impact_points(impact_points, time_stamps, quant_params):\n",
    "    assert len(impact_points) == len(time_stamps)\n",
    "    n_frames, n_limbs = impact_points.shape\n",
    "    \n",
    "    # quantize time stamps\n",
    "    dt = 60 / (quant_params['bpm'] * quant_params['subdiv'])\n",
    "    quantized_time_stamps = np.round((time_stamps - quant_params['beat_ref']) / dt) * dt + quant_params['beat_ref']\n",
    "    impact_points[quantized_time_stamps < 0] = np.zeros((n_limbs), dtype=bool)\n",
    "    quantized_time_stamps[quantized_time_stamps < 0] = 0\n",
    "    \n",
    "    # format quantized impacts\n",
    "    quantized_impacts = []\n",
    "    for l in range(n_limbs):\n",
    "        quantized_impacts.append(np.unique(quantized_time_stamps[impact_points[:,l]]))\n",
    "    \n",
    "    return quantized_impacts"
   ]
  },
  {
   "cell_type": "markdown",
   "id": "1714e4c8",
   "metadata": {
    "heading_collapsed": true
   },
   "source": [
    "## Quantize Impact Points"
   ]
  },
  {
   "cell_type": "code",
   "execution_count": 3,
   "id": "1a21c315",
   "metadata": {
    "ExecuteTime": {
     "end_time": "2022-12-08T22:57:16.396301Z",
     "start_time": "2022-12-08T22:57:16.389529Z"
    },
    "hidden": true,
    "scrolled": true
   },
   "outputs": [
    {
     "name": "stdout",
     "output_type": "stream",
     "text": [
      "Percentage impacts per limb pre quant: [2.2556391  1.94235589 2.38095238 2.19298246]\n",
      "Percentage impacts per limb post quant: [2.2556391  1.94235589 2.38095238 2.19298246]\n"
     ]
    }
   ],
   "source": [
    "# load impact points\n",
    "load_dir = os.path.join('..', 'data', 'impact_points')\n",
    "vid_name = 'j2'\n",
    "impact_points = np.load(os.path.join(load_dir, f'{vid_name}_impact_points.npy'))\n",
    "time_stamps = np.load(os.path.join(load_dir, f'{vid_name}_time_stamps.npy'))\n",
    "print(f'Percentage impacts per limb pre quant: {100 * impact_points.mean(axis=0)}')\n",
    "\n",
    "# quant params for j2\n",
    "quant_params = {\n",
    "    'beat_ref': 2.4,\n",
    "    'bpm': 159,\n",
    "    'subdiv': 2\n",
    "}\n",
    "\n",
    "# run\n",
    "quantized_impacts = quantize_impact_points(impact_points, time_stamps, quant_params)\n",
    "\n",
    "# save results to file\n",
    "save_dir = os.path.join('..', 'data', 'quantized_impacts')\n",
    "if not os.path.exists(save_dir):\n",
    "    os.makedirs(save_dir)\n",
    "\n",
    "with open(os.path.join(save_dir, f'{vid_name}_quantized_impacts.pkl'), 'wb') as f:\n",
    "    pickle.dump(quantized_impacts, f)\n",
    "quantized_impacts\n",
    "print(f'Percentage impacts per limb post quant: {100 * np.array([len(x) for x in quantized_impacts]) / impact_points.shape[0]}')"
   ]
  },
  {
   "cell_type": "markdown",
   "id": "3aa9be6d",
   "metadata": {},
   "source": [
    "## Run on All Videos"
   ]
  },
  {
   "cell_type": "code",
   "execution_count": 4,
   "id": "9f833184",
   "metadata": {
    "ExecuteTime": {
     "end_time": "2022-12-08T22:57:16.416282Z",
     "start_time": "2022-12-08T22:57:16.397695Z"
    }
   },
   "outputs": [
    {
     "name": "stdout",
     "output_type": "stream",
     "text": [
      "----------\n",
      "a1\n",
      "----------\n",
      "a2\n",
      "----------\n",
      "e1\n",
      "----------\n",
      "e2\n",
      "----------\n",
      "e3\n",
      "----------\n",
      "j1\n",
      "----------\n",
      "j2\n",
      "----------\n",
      "u1\n",
      "----------\n",
      "u2\n"
     ]
    }
   ],
   "source": [
    "# run impact detection for all videos\n",
    "load_dir = os.path.join('..', 'data', 'impact_points')\n",
    "vid_info_df = pd.read_csv(os.path.join('..', 'video', 'video_info.csv'), index_col='vid_name')\n",
    "\n",
    "save_dir = os.path.join('..', 'data', 'quantized_impacts')\n",
    "if not os.path.exists(save_dir):\n",
    "    os.makedirs(save_dir)\n",
    "\n",
    "# iterate over all videos\n",
    "for vid_name in vid_info_df.index:\n",
    "    if vid_name != 'group':\n",
    "        print(10 * '-')\n",
    "        print(vid_name)\n",
    "        \n",
    "        # load impact points and time stamps\n",
    "        impact_points = np.load(os.path.join(load_dir, f'{vid_name}_impact_points.npy'))\n",
    "        time_stamps = np.load(os.path.join(load_dir, f'{vid_name}_time_stamps.npy'))\n",
    "         \n",
    "        # quantize impact points and save\n",
    "        quant_params = {\n",
    "            'beat_ref': vid_info_df.loc[vid_name]['beat_ref'],\n",
    "            'bpm': vid_info_df.loc[vid_name]['bpm'],\n",
    "            'subdiv': vid_info_df.loc[vid_name]['subdiv']\n",
    "        }\n",
    "        quantized_impacts = quantize_impact_points(impact_points, time_stamps, quant_params)\n",
    "        with open(os.path.join(save_dir, f'{vid_name}_quantized_impacts.pkl'), 'wb') as f:\n",
    "            pickle.dump(quantized_impacts, f)"
   ]
  }
 ],
 "metadata": {
  "kernelspec": {
   "display_name": "Python [conda env:video]",
   "language": "python",
   "name": "conda-env-video-py"
  },
  "language_info": {
   "codemirror_mode": {
    "name": "ipython",
    "version": 3
   },
   "file_extension": ".py",
   "mimetype": "text/x-python",
   "name": "python",
   "nbconvert_exporter": "python",
   "pygments_lexer": "ipython3",
   "version": "3.8.12"
  }
 },
 "nbformat": 4,
 "nbformat_minor": 5
}

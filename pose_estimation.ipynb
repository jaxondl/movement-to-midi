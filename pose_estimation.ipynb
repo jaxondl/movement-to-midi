{
 "cells": [
  {
   "cell_type": "markdown",
   "id": "aa267f79",
   "metadata": {},
   "source": [
    "# Pose Estimation"
   ]
  },
  {
   "cell_type": "code",
   "execution_count": 1,
   "id": "e63054f9",
   "metadata": {
    "ExecuteTime": {
     "end_time": "2022-10-20T00:19:28.858366Z",
     "start_time": "2022-10-20T00:19:27.991504Z"
    }
   },
   "outputs": [],
   "source": [
    "# imports\n",
    "import os\n",
    "import numpy as np"
   ]
  },
  {
   "cell_type": "markdown",
   "id": "f9d4cce8",
   "metadata": {},
   "source": [
    "https://cmu-perceptual-computing-lab.github.io/openpose/web/html/doc/md_doc_02_output.html"
   ]
  },
  {
   "cell_type": "code",
   "execution_count": 2,
   "id": "fb2020b8",
   "metadata": {
    "ExecuteTime": {
     "end_time": "2022-10-20T00:19:28.866832Z",
     "start_time": "2022-10-20T00:19:28.860303Z"
    }
   },
   "outputs": [],
   "source": [
    "# load video\n",
    "vid_dir = os.path.join('video')\n",
    "vid_name = 'test'\n",
    "vid_ext = '.mov' # or '.mp4'\n",
    "vid_path = os.path.join(vid_dir, vid_name + vid_ext)\n",
    "\n",
    "# you might have to extract frames, could be easier to save them to another directory\n",
    "# may not be necessary, idk\n",
    "frm_dir = os.path.join('video', 'frames', vid_name)\n",
    "if not os.path.exists(frm_dir):\n",
    "    os.makedirs(frm_dir)\n",
    "    \n",
    "# save original video audio here\n",
    "audio_dir = os.path.join('audio', 'original')\n",
    "if not os.path.exists(audio_dir):\n",
    "    os.makedirs(audio_dir)\n",
    "audio_path = os.path.join(audio_dir, f'{vid_name}_original_audio.wav') # or '.mp3'"
   ]
  },
  {
   "cell_type": "code",
   "execution_count": 3,
   "id": "679e4de0",
   "metadata": {
    "ExecuteTime": {
     "end_time": "2022-10-20T00:19:28.875352Z",
     "start_time": "2022-10-20T00:19:28.870100Z"
    }
   },
   "outputs": [
    {
     "name": "stdout",
     "output_type": "stream",
     "text": [
      "[0 1 2 3 4 5 6 7 8 9]\n",
      "(10, 18, 2)\n"
     ]
    }
   ],
   "source": [
    "# function for pose estimation\n",
    "def pose_estimation(frm_dir):\n",
    "    # filler arryas for now\n",
    "    n_frames = 10 # arbitrary\n",
    "    n_points = 18 # number of points tracked in COCO format in openpose\n",
    "    n_dims = 2 # x, y\n",
    "    \n",
    "    # poses might not be in numpy format, this is a filler\n",
    "    pose_estimates = np.random.rand(n_frames, n_points, n_dims)\n",
    "    # time_stamps designates either frame numbers (from start of video)\n",
    "    # or timestamps (in seconds) (whichever convenient based on real time) that we have pose estimates for\n",
    "    # may not have a pose estimate every frame depending on computational load\n",
    "    time_stamps = np.arange(n_frames)\n",
    "    \n",
    "    assert len(pose_estimates) == len(time_stamps)\n",
    "    return pose_estimates, time_stamps\n",
    "\n",
    "# testing\n",
    "pose_estimates, time_stamps = pose_estimation(frm_dir)\n",
    "print(time_stamps)\n",
    "print(pose_estimates.shape)"
   ]
  },
  {
   "cell_type": "code",
   "execution_count": 4,
   "id": "e0193b5a",
   "metadata": {
    "ExecuteTime": {
     "end_time": "2022-10-20T00:19:28.881179Z",
     "start_time": "2022-10-20T00:19:28.877027Z"
    }
   },
   "outputs": [],
   "source": [
    "# save results to file\n",
    "save_dir = os.path.join('data', 'pose_estimates')\n",
    "if not os.path.exists(save_dir):\n",
    "    os.makedirs(save_dir)\n",
    "\n",
    "np.save(os.path.join(save_dir, f'{vid_name}_pose_estimates.npy'), pose_estimates)\n",
    "np.save(os.path.join(save_dir, f'{vid_name}_time_stamps.npy'), time_stamps)"
   ]
  }
 ],
 "metadata": {
  "kernelspec": {
   "display_name": "Python [conda env:video]",
   "language": "python",
   "name": "conda-env-video-py"
  },
  "language_info": {
   "codemirror_mode": {
    "name": "ipython",
    "version": 3
   },
   "file_extension": ".py",
   "mimetype": "text/x-python",
   "name": "python",
   "nbconvert_exporter": "python",
   "pygments_lexer": "ipython3",
   "version": "3.8.12"
  }
 },
 "nbformat": 4,
 "nbformat_minor": 5
}

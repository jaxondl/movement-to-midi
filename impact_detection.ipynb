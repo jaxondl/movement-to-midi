{
 "cells": [
  {
   "cell_type": "markdown",
   "id": "06c995c8",
   "metadata": {},
   "source": [
    "# Impact Detection"
   ]
  },
  {
   "cell_type": "code",
   "execution_count": 1,
   "id": "07cfc4ae",
   "metadata": {
    "ExecuteTime": {
     "end_time": "2022-10-20T00:21:22.867862Z",
     "start_time": "2022-10-20T00:21:22.148332Z"
    }
   },
   "outputs": [],
   "source": [
    "# imports\n",
    "import os\n",
    "import numpy as np"
   ]
  },
  {
   "cell_type": "code",
   "execution_count": 5,
   "id": "091d6a50",
   "metadata": {
    "ExecuteTime": {
     "end_time": "2022-10-20T00:21:35.025084Z",
     "start_time": "2022-10-20T00:21:35.020957Z"
    }
   },
   "outputs": [
    {
     "name": "stdout",
     "output_type": "stream",
     "text": [
      "[0 1 2 3 4 5 6 7 8 9]\n",
      "(10, 18, 2)\n",
      "n_frames, n_points, n_dims (x, y)\n"
     ]
    }
   ],
   "source": [
    "# load pose estimates\n",
    "load_dir = os.path.join('data', 'pose_estimates')\n",
    "vid_name = 'test'\n",
    "\n",
    "# poses might not be able to be loaded with numpy but this should work for now\n",
    "pose_estimates = np.load(os.path.join(load_dir, f'{vid_name}_pose_estimates.npy'))\n",
    "time_stamps = np.load(os.path.join(load_dir, f'{vid_name}_time_stamps.npy'))\n",
    "print(time_stamps)\n",
    "print(pose_estimates.shape)\n",
    "print('n_frames, n_points, n_dims (x, y)')"
   ]
  },
  {
   "cell_type": "markdown",
   "id": "bcec17de",
   "metadata": {},
   "source": [
    "https://cmu-perceptual-computing-lab.github.io/openpose/web/html/doc/md_doc_02_output.html"
   ]
  },
  {
   "cell_type": "code",
   "execution_count": 3,
   "id": "bf934de3",
   "metadata": {
    "ExecuteTime": {
     "end_time": "2022-10-20T00:21:22.879621Z",
     "start_time": "2022-10-20T00:21:22.875219Z"
    }
   },
   "outputs": [
    {
     "name": "stdout",
     "output_type": "stream",
     "text": [
      "[0 1 2 3 4 5 6 7 8 9]\n",
      "[[False False False False]\n",
      " [False False False False]\n",
      " [False False False False]\n",
      " [False False False False]\n",
      " [False False False False]\n",
      " [False False False False]\n",
      " [False False False False]\n",
      " [False False False False]\n",
      " [False False False False]\n",
      " [False False False False]]\n"
     ]
    }
   ],
   "source": [
    "# function to detect impact points\n",
    "def detect_impact_points(pose_estimates, time_stamps, limb_indices):\n",
    "    # unsure of format of pose_estimates\n",
    "    # should be something like a list of pose coordinates over frames\n",
    "    # time_stamps might be a list of frame numbers or actual times in seconds\n",
    "    # since we probably won't have a pose estimate every frame\n",
    "    assert len(pose_estimates) == len(time_stamps)\n",
    "    \n",
    "    # extract relevant coordinates from pose_estimates\n",
    "    n_frames = pose_estimates.shape[0]\n",
    "    n_limbs = len(limb_indices)\n",
    "    n_dims = pose_estimates.shape[2]\n",
    "    coordinates = np.zeros((n_frames, n_limbs, n_dims))\n",
    "    \n",
    "    # detect impact points for each limb\n",
    "    impact_points = np.zeros((n_frames, n_limbs), dtype=bool)\n",
    "    \n",
    "    assert len(impact_points) == len(time_stamps)\n",
    "    return impact_points, time_stamps\n",
    "\n",
    "# testing\n",
    "limb_indices = [4, 7, 10, 13] # hands and feet indices in COCO format\n",
    "impact_points, time_stamps = detect_impact_points(pose_estimates, time_stamps, limb_indices)\n",
    "print(time_stamps)\n",
    "print(impact_points)"
   ]
  },
  {
   "cell_type": "code",
   "execution_count": 4,
   "id": "b0196834",
   "metadata": {
    "ExecuteTime": {
     "end_time": "2022-10-20T00:21:22.885290Z",
     "start_time": "2022-10-20T00:21:22.881630Z"
    }
   },
   "outputs": [],
   "source": [
    "# save results to file\n",
    "save_dir = os.path.join('data', 'impact_points')\n",
    "if not os.path.exists(save_dir):\n",
    "    os.makedirs(save_dir)\n",
    "vid_name = 'test'\n",
    "\n",
    "np.save(os.path.join(save_dir, f'{vid_name}_impact_points.npy'), impact_points)\n",
    "np.save(os.path.join(save_dir, f'{vid_name}_time_stamps.npy'), time_stamps)"
   ]
  }
 ],
 "metadata": {
  "kernelspec": {
   "display_name": "Python [conda env:video]",
   "language": "python",
   "name": "conda-env-video-py"
  },
  "language_info": {
   "codemirror_mode": {
    "name": "ipython",
    "version": 3
   },
   "file_extension": ".py",
   "mimetype": "text/x-python",
   "name": "python",
   "nbconvert_exporter": "python",
   "pygments_lexer": "ipython3",
   "version": "3.8.12"
  }
 },
 "nbformat": 4,
 "nbformat_minor": 5
}

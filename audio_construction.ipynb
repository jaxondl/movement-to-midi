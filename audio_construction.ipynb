{
 "cells": [
  {
   "cell_type": "markdown",
   "id": "8f562b30",
   "metadata": {},
   "source": [
    "# Audio Construction"
   ]
  },
  {
   "cell_type": "code",
   "execution_count": 1,
   "id": "14644e15",
   "metadata": {
    "ExecuteTime": {
     "end_time": "2022-10-20T00:24:18.030218Z",
     "start_time": "2022-10-20T00:24:17.323374Z"
    }
   },
   "outputs": [],
   "source": [
    "# imports\n",
    "import os\n",
    "import numpy as np\n",
    "import pickle\n",
    "import wave\n",
    "import math\n",
    "from pydub import AudioSegment\n",
    "from pydub.playback import play"
   ]
  },
  {
   "cell_type": "code",
   "execution_count": 2,
   "id": "e3eb03c7",
   "metadata": {
    "ExecuteTime": {
     "end_time": "2022-10-20T00:24:18.035360Z",
     "start_time": "2022-10-20T00:24:18.031456Z"
    },
    "scrolled": true
   },
   "outputs": [
    {
     "name": "stdout",
     "output_type": "stream",
     "text": [
      "[array([0, 1, 2, 3], dtype=int64), array([4, 5, 6, 7], dtype=int64), array([ 8,  9, 10, 11], dtype=int64), array([12, 13, 14, 15], dtype=int64)]\n"
     ]
    }
   ],
   "source": [
    "# load quantized impacts\n",
    "load_dir = os.path.join('data', 'quantized_impacts')\n",
    "vid_name = 'test'\n",
    "with open(os.path.join(load_dir, f'{vid_name}_quantized_impacts.pkl'), 'rb') as f:\n",
    "    quantized_impacts = pickle.load(f)\n",
    "print(quantized_impacts)"
   ]
  },
  {
   "cell_type": "code",
   "execution_count": 12,
   "id": "6c8837e1",
   "metadata": {
    "ExecuteTime": {
     "end_time": "2022-10-20T00:24:18.046740Z",
     "start_time": "2022-10-20T00:24:18.036617Z"
    }
   },
   "outputs": [
    {
     "data": {
      "text/plain": [
       "True"
      ]
     },
     "execution_count": 12,
     "metadata": {},
     "output_type": "execute_result"
    }
   ],
   "source": [
    "# function to construct audio\n",
    "def construct_audio(quantized_impacts, instrument_paths, audio_save_path, audio_load_path=None):\n",
    "    \n",
    "    # quantized impacts and instrument paths should both have length n_limbs\n",
    "    assert len(quantized_impacts) == len(instrument_paths)\n",
    "        \n",
    "    # if audio_load_path provided, construct audio on top of original audio (we don't have this yet)\n",
    "    if audio_load_path:\n",
    "        base_audio = AudioSegment.from_wav(audio_load_path)\n",
    "        \n",
    "    # otherwise, construct blank audio file\n",
    "    else:\n",
    "        base_audio = AudioSegment.silent()\n",
    "    \n",
    "    # quantized_impacts is a list of numpy arrays\n",
    "    # each array corresponds to a limb and contains timestamps in seconds of the impact points\n",
    "    # each limb has a corresponding instrument sound in instrument_paths\n",
    "    # instrument sounds should occur in the audio file at every time stamp in the respective array\n",
    "    for impacts, instrument_path in zip(quantized_impacts, instrument_paths):\n",
    "        impact_sound = AudioSegment.from_wav(instrument_path)\n",
    "        first_second = impact_sound[:1000]\n",
    "        \n",
    "        song = AudioSegment.empty()\n",
    "        \n",
    "        # for each time stamp in array, make sound in file\n",
    "        beg_time = 0\n",
    "        for time in impacts:\n",
    "            silence = AudioSegment.silent(duration=(max(0,time-beg_time))*1000)\n",
    "            song = song + silence + first_second\n",
    "            beg_time = time+1\n",
    "            \n",
    "        # combine current sound file with base_audio\n",
    "        base_audio = base_audio.overlay(song)\n",
    "    \n",
    "    final_sound = base_audio\n",
    "    \n",
    "    # save audio to audio_save_path\n",
    "    final_sound.export(audio_save_path, format='wav')\n",
    "    \n",
    "    \n",
    "    success = True\n",
    "    return success\n",
    "\n",
    "# testing\n",
    "\n",
    "# get instrument paths\n",
    "instrument_dir = os.path.join('audio', 'instruments')\n",
    "instrument_names = ['hihat.wav', 'cowbell.wav', 'kick.wav', 'snare.wav']\n",
    "instrument_paths = [os.path.join(instrument_dir, name) for name in instrument_names]\n",
    "\n",
    "# create save directory\n",
    "vid_name = 'test'\n",
    "audio_save_dir = os.path.join('audio', 'constructed')\n",
    "if not os.path.exists(audio_save_dir):\n",
    "    os.makedirs(audio_save_dir)\n",
    "audio_save_path = os.path.join(audio_save_dir, f'{vid_name}_constructed_audio.wav')\n",
    "\n",
    "# get load directory (won't use this until we have original audio ready)\n",
    "audio_load_dir = os.path.join('audio', 'original')\n",
    "audio_load_path = os.path.join(audio_load_dir, f'{vid_name}_original_audio.wav')\n",
    "\n",
    "construct_audio(quantized_impacts, instrument_paths, audio_save_path)\n",
    "\n",
    "\n",
    "# https://github.com/jiaaro/pydub/issues/209\n",
    "#   getting permission denied error when try to test with play(AudioSegment.from_wav(audio_save_path)); need to look @ changing TEMPDIR\n",
    "# play(AudioSegment.from_wav(audio_save_path)) \"\"\"\n"
   ]
  },
  {
   "cell_type": "code",
   "execution_count": null,
   "id": "85201d04",
   "metadata": {},
   "outputs": [],
   "source": []
  },
  {
   "cell_type": "code",
   "execution_count": null,
   "id": "a19dd034",
   "metadata": {},
   "outputs": [],
   "source": []
  }
 ],
 "metadata": {
  "kernelspec": {
   "display_name": "Python 3 (ipykernel)",
   "language": "python",
   "name": "python3"
  },
  "language_info": {
   "codemirror_mode": {
    "name": "ipython",
    "version": 3
   },
   "file_extension": ".py",
   "mimetype": "text/x-python",
   "name": "python",
   "nbconvert_exporter": "python",
   "pygments_lexer": "ipython3",
   "version": "3.9.12"
  }
 },
 "nbformat": 4,
 "nbformat_minor": 5
}

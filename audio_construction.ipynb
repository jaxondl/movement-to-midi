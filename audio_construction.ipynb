{
 "cells": [
  {
   "cell_type": "markdown",
   "id": "8f562b30",
   "metadata": {},
   "source": [
    "# Audio Construction"
   ]
  },
  {
   "cell_type": "code",
   "execution_count": 1,
   "id": "14644e15",
   "metadata": {
    "ExecuteTime": {
     "end_time": "2022-11-30T21:40:03.818475Z",
     "start_time": "2022-11-30T21:40:01.188242Z"
    }
   },
   "outputs": [],
   "source": [
    "# imports\n",
    "import os\n",
    "import numpy as np\n",
    "import pandas as pd\n",
    "import pickle\n",
    "from pydub import AudioSegment\n",
    "from pydub.playback import play\n",
    "import moviepy.editor as mp"
   ]
  },
  {
   "cell_type": "markdown",
   "id": "e395d19c",
   "metadata": {
    "heading_collapsed": true
   },
   "source": [
    "## Functions"
   ]
  },
  {
   "cell_type": "code",
   "execution_count": 2,
   "id": "6c8837e1",
   "metadata": {
    "ExecuteTime": {
     "end_time": "2022-11-30T21:40:03.825665Z",
     "start_time": "2022-11-30T21:40:03.820518Z"
    },
    "hidden": true
   },
   "outputs": [],
   "source": [
    "# function to construct audio\n",
    "def construct_audio(quantized_impacts, instrument_paths, audio_save_path, audio_load_path=None, video_length:float=None):\n",
    "    \n",
    "    # quantized impacts and instrument paths should both have length n_limbs\n",
    "    assert len(quantized_impacts) == len(instrument_paths)\n",
    "        \n",
    "    # if audio_load_path provided, construct audio on top of original audio (we don't have this yet)\n",
    "    if audio_load_path:\n",
    "        base_audio = AudioSegment.from_wav(audio_load_path)\n",
    "        \n",
    "#         # if audio file provided is shorter than video length, then concatenate .wav file\n",
    "#         frames = base_audio.getnframes()\n",
    "#         rate = base_audio.getframerate()\n",
    "#         temp_audio = base_audio\n",
    "#         while (frames / rate) < video_length:\n",
    "#             base_audio = base_audio + temp_audio\n",
    "#             frames = base_audio.getnframes()\n",
    "        \n",
    "    # otherwise, construct blank audio file\n",
    "    elif video_length:\n",
    "        base_audio = AudioSegment.silent(duration=(1000*video_length))\n",
    "    else:\n",
    "        raise Exception('audio_load_path or video_length must be provided')\n",
    "    \n",
    "    # quantized_impacts is a list of numpy arrays\n",
    "    # each array corresponds to a limb and contains timestamps in seconds of the impact points\n",
    "    # each limb has a corresponding instrument sound in instrument_paths\n",
    "    # instrument sounds should occur in the audio file at every time stamp in the respective array\n",
    "    for impacts, instrument_path in zip(quantized_impacts, instrument_paths):\n",
    "        impact_sound = AudioSegment.from_wav(instrument_path)\n",
    "        \n",
    "#         print(impacts)\n",
    "        print(instrument_path)\n",
    "        \n",
    "        # for each time stamp in array, make sound in file & combine sound file with base_audio\n",
    "        for time in impacts:\n",
    "            beat = AudioSegment.silent(duration=(1000*time)) + impact_sound\n",
    "            quite_beat = beat - 9\n",
    "            base_audio = base_audio.overlay(quite_beat)\n",
    "    \n",
    "    final_sound = base_audio\n",
    "    \n",
    "    # save audio to audio_save_path\n",
    "    final_sound.export(audio_save_path, format=audio_save_path[-3:])"
   ]
  },
  {
   "cell_type": "code",
   "execution_count": 3,
   "id": "9a969004",
   "metadata": {
    "ExecuteTime": {
     "end_time": "2022-11-30T21:40:03.829764Z",
     "start_time": "2022-11-30T21:40:03.826993Z"
    },
    "hidden": true
   },
   "outputs": [],
   "source": [
    "# stripping sound from video and re-saving\n",
    "def strip_audio(video_load_path, audio_save_path, video_save_path=None):\n",
    "    video = mp.VideoFileClip(video_load_path)\n",
    "    video.audio.write_audiofile(audio_save_path)\n",
    "    \n",
    "    if video_save_path != None:\n",
    "        video_no_audio = video.without_audio()\n",
    "        video_no_audio.write_videofile(video_save_path)"
   ]
  },
  {
   "cell_type": "code",
   "execution_count": 4,
   "id": "96df52ef",
   "metadata": {
    "ExecuteTime": {
     "end_time": "2022-11-30T21:40:03.833745Z",
     "start_time": "2022-11-30T21:40:03.831345Z"
    },
    "hidden": true
   },
   "outputs": [],
   "source": [
    "# combining video and audio\n",
    "def combine_audio_video(video_load_path, audio_load_path, combined_save_path, fps=30):\n",
    "    video = mp.VideoFileClip(video_load_path)\n",
    "    audio = mp.AudioFileClip(audio_load_path)\n",
    "    \n",
    "    video.audio = audio\n",
    "    video.write_videofile(combined_save_path, fps=fps, audio_codec='aac')"
   ]
  },
  {
   "cell_type": "markdown",
   "id": "e089733f",
   "metadata": {
    "heading_collapsed": true
   },
   "source": [
    "## Strip Audio (run once)"
   ]
  },
  {
   "cell_type": "code",
   "execution_count": 7,
   "id": "cf2ababa",
   "metadata": {
    "ExecuteTime": {
     "end_time": "2022-11-30T21:09:05.708528Z",
     "start_time": "2022-11-30T21:08:58.502442Z"
    },
    "hidden": true
   },
   "outputs": [
    {
     "name": "stdout",
     "output_type": "stream",
     "text": [
      "--------------------------------------------------\n",
      "a1\n",
      "MoviePy - Writing audio in audio/original/a1.wav\n"
     ]
    },
    {
     "name": "stderr",
     "output_type": "stream",
     "text": [
      "                                                                                             \r"
     ]
    },
    {
     "name": "stdout",
     "output_type": "stream",
     "text": [
      "MoviePy - Done.\n",
      "--------------------------------------------------\n",
      "a2\n",
      "MoviePy - Writing audio in audio/original/a2.wav\n"
     ]
    },
    {
     "name": "stderr",
     "output_type": "stream",
     "text": [
      "                                                                                             \r"
     ]
    },
    {
     "name": "stdout",
     "output_type": "stream",
     "text": [
      "MoviePy - Done.\n",
      "--------------------------------------------------\n",
      "e1\n",
      "MoviePy - Writing audio in audio/original/e1.wav\n"
     ]
    },
    {
     "name": "stderr",
     "output_type": "stream",
     "text": [
      "                                                                                             \r"
     ]
    },
    {
     "name": "stdout",
     "output_type": "stream",
     "text": [
      "MoviePy - Done.\n",
      "--------------------------------------------------\n",
      "e2\n",
      "MoviePy - Writing audio in audio/original/e2.wav\n"
     ]
    },
    {
     "name": "stderr",
     "output_type": "stream",
     "text": [
      "                                                                                             \r"
     ]
    },
    {
     "name": "stdout",
     "output_type": "stream",
     "text": [
      "MoviePy - Done.\n",
      "--------------------------------------------------\n",
      "e3\n",
      "MoviePy - Writing audio in audio/original/e3.wav\n"
     ]
    },
    {
     "name": "stderr",
     "output_type": "stream",
     "text": [
      "                                                                                             \r"
     ]
    },
    {
     "name": "stdout",
     "output_type": "stream",
     "text": [
      "MoviePy - Done.\n",
      "--------------------------------------------------\n",
      "j1\n",
      "MoviePy - Writing audio in audio/original/j1.wav\n"
     ]
    },
    {
     "name": "stderr",
     "output_type": "stream",
     "text": [
      "                                                                                             \r"
     ]
    },
    {
     "name": "stdout",
     "output_type": "stream",
     "text": [
      "MoviePy - Done.\n",
      "--------------------------------------------------\n",
      "j2\n",
      "MoviePy - Writing audio in audio/original/j2.wav\n"
     ]
    },
    {
     "name": "stderr",
     "output_type": "stream",
     "text": [
      "                                                                                             \r"
     ]
    },
    {
     "name": "stdout",
     "output_type": "stream",
     "text": [
      "MoviePy - Done.\n",
      "--------------------------------------------------\n",
      "u1\n",
      "MoviePy - Writing audio in audio/original/u1.wav\n"
     ]
    },
    {
     "name": "stderr",
     "output_type": "stream",
     "text": [
      "                                                                                             \r"
     ]
    },
    {
     "name": "stdout",
     "output_type": "stream",
     "text": [
      "MoviePy - Done.\n",
      "--------------------------------------------------\n",
      "u2\n",
      "MoviePy - Writing audio in audio/original/u2.wav\n"
     ]
    },
    {
     "name": "stderr",
     "output_type": "stream",
     "text": [
      "                                                                                             "
     ]
    },
    {
     "name": "stdout",
     "output_type": "stream",
     "text": [
      "MoviePy - Done.\n"
     ]
    },
    {
     "name": "stderr",
     "output_type": "stream",
     "text": [
      "\r"
     ]
    }
   ],
   "source": [
    "# strip audio for all videos\n",
    "video_original_dir = os.path.join('video', 'original')\n",
    "audio_original_dir = os.path.join('audio', 'original')\n",
    "if not os.path.exists(audio_original_dir):\n",
    "    os.makedirs(audio_original_dir)\n",
    "\n",
    "# iterate over all videos\n",
    "vid_info_df = pd.read_csv(os.path.join('video', 'video_info.csv'), index_col='vid_name')\n",
    "for vid_name in vid_info_df.index:\n",
    "    if vid_name != 'group':\n",
    "        print(50 * '-')\n",
    "        print(vid_name)\n",
    "        \n",
    "        video_original_path = os.path.join(video_original_dir, f'{vid_name}.mov')\n",
    "        audio_original_path = os.path.join(audio_original_dir, f'{vid_name}.wav')\n",
    "        \n",
    "        strip_audio(video_original_path, audio_original_path)"
   ]
  },
  {
   "cell_type": "markdown",
   "id": "7f6c765a",
   "metadata": {
    "heading_collapsed": true
   },
   "source": [
    "## Construct Audio and Video"
   ]
  },
  {
   "cell_type": "code",
   "execution_count": 5,
   "id": "85201d04",
   "metadata": {
    "ExecuteTime": {
     "end_time": "2022-11-30T21:30:49.109183Z",
     "start_time": "2022-11-30T21:25:58.997358Z"
    },
    "hidden": true
   },
   "outputs": [
    {
     "name": "stdout",
     "output_type": "stream",
     "text": [
      "audio/instruments/hihat.wav\n",
      "audio/instruments/cowbell.wav\n",
      "audio/instruments/kick.wav\n",
      "audio/instruments/snare.wav\n",
      "Moviepy - Building video video/output/j1.mp4.\n",
      "MoviePy - Writing audio in j1TEMP_MPY_wvf_snd.mp4\n"
     ]
    },
    {
     "name": "stderr",
     "output_type": "stream",
     "text": [
      "                                                                                             \r"
     ]
    },
    {
     "name": "stdout",
     "output_type": "stream",
     "text": [
      "MoviePy - Done.\n",
      "Moviepy - Writing video video/output/j1.mp4\n",
      "\n"
     ]
    },
    {
     "name": "stderr",
     "output_type": "stream",
     "text": [
      "                                                                                             \r"
     ]
    },
    {
     "name": "stdout",
     "output_type": "stream",
     "text": [
      "Moviepy - Done !\n",
      "Moviepy - video ready video/output/j1.mp4\n"
     ]
    }
   ],
   "source": [
    "# construct audio and video\n",
    "vid_name = 'j1'\n",
    "\n",
    "# load quantized impacts\n",
    "quant_load_dir = os.path.join('data', 'quantized_impacts')\n",
    "with open(os.path.join(quant_load_dir, f'{vid_name}_quantized_impacts.pkl'), 'rb') as f:\n",
    "    quantized_impacts = pickle.load(f)\n",
    "\n",
    "# get instrument paths\n",
    "instrument_dir = os.path.join('audio', 'instruments')\n",
    "instrument_names = ['hihat.wav', 'cowbell.wav', 'kick.wav', 'snare.wav']\n",
    "instrument_paths = [os.path.join(instrument_dir, name) for name in instrument_names]\n",
    "\n",
    "# get load directory\n",
    "audio_original_dir = os.path.join('audio', 'original')\n",
    "audio_original_path = os.path.join(audio_original_dir, f'{vid_name}.wav')\n",
    "\n",
    "# create save directory\n",
    "audio_output_dir = os.path.join('audio', 'output')\n",
    "if not os.path.exists(audio_output_dir):\n",
    "    os.makedirs(audio_output_dir)\n",
    "audio_output_path = os.path.join(audio_output_dir, f'{vid_name}.wav')\n",
    "\n",
    "construct_audio(quantized_impacts, instrument_paths, audio_output_path, audio_load_path=audio_original_path)\n",
    "\n",
    "# https://github.com/jiaaro/pydub/issues/209\n",
    "#   getting permission denied error when try to test with play(AudioSegment.from_wav(audio_save_path)); need to look @ changing TEMPDIR\n",
    "# play(AudioSegment.from_wav(audio_save_path)) \"\"\"\n",
    "\n",
    "# combine audio and video\n",
    "video_original_dir = os.path.join('video', 'original')\n",
    "video_original_path = os.path.join(video_original_dir, f'{vid_name}.mov')\n",
    "video_output_dir = os.path.join('video', 'output')\n",
    "video_output_path = os.path.join(video_output_dir, f'{vid_name}.mp4')\n",
    "if not os.path.exists(video_output_dir):\n",
    "    os.makedirs(video_output_dir)\n",
    "\n",
    "combine_audio_video(video_original_path, audio_output_path, video_output_path)"
   ]
  },
  {
   "cell_type": "markdown",
   "id": "35381cc9",
   "metadata": {
    "heading_collapsed": true
   },
   "source": [
    "## Run on All Videos"
   ]
  },
  {
   "cell_type": "code",
   "execution_count": 6,
   "id": "9bd68784",
   "metadata": {
    "ExecuteTime": {
     "end_time": "2022-11-30T21:51:02.135261Z",
     "start_time": "2022-11-30T21:40:43.269707Z"
    },
    "hidden": true
   },
   "outputs": [
    {
     "name": "stdout",
     "output_type": "stream",
     "text": [
      "--------------------------------------------------\n",
      "a1\n",
      "audio/instruments/hihat.wav\n",
      "audio/instruments/cowbell.wav\n",
      "audio/instruments/kick.wav\n",
      "audio/instruments/snare.wav\n",
      "Moviepy - Building video video/output/a1.mp4.\n",
      "MoviePy - Writing audio in a1TEMP_MPY_wvf_snd.mp4\n"
     ]
    },
    {
     "name": "stderr",
     "output_type": "stream",
     "text": [
      "                                                                                             \r"
     ]
    },
    {
     "name": "stdout",
     "output_type": "stream",
     "text": [
      "MoviePy - Done.\n",
      "Moviepy - Writing video video/output/a1.mp4\n",
      "\n"
     ]
    },
    {
     "name": "stderr",
     "output_type": "stream",
     "text": [
      "                                                                                             \r"
     ]
    },
    {
     "name": "stdout",
     "output_type": "stream",
     "text": [
      "Moviepy - Done !\n",
      "Moviepy - video ready video/output/a1.mp4\n",
      "--------------------------------------------------\n",
      "a2\n",
      "audio/instruments/hihat.wav\n",
      "audio/instruments/cowbell.wav\n",
      "audio/instruments/kick.wav\n",
      "audio/instruments/snare.wav\n",
      "Moviepy - Building video video/output/a2.mp4.\n",
      "MoviePy - Writing audio in a2TEMP_MPY_wvf_snd.mp4\n"
     ]
    },
    {
     "name": "stderr",
     "output_type": "stream",
     "text": [
      "                                                                                             \r"
     ]
    },
    {
     "name": "stdout",
     "output_type": "stream",
     "text": [
      "MoviePy - Done.\n",
      "Moviepy - Writing video video/output/a2.mp4\n",
      "\n"
     ]
    },
    {
     "name": "stderr",
     "output_type": "stream",
     "text": [
      "                                                                                             \r"
     ]
    },
    {
     "name": "stdout",
     "output_type": "stream",
     "text": [
      "Moviepy - Done !\n",
      "Moviepy - video ready video/output/a2.mp4\n",
      "--------------------------------------------------\n",
      "e1\n",
      "audio/instruments/hihat.wav\n",
      "audio/instruments/cowbell.wav\n",
      "audio/instruments/kick.wav\n",
      "audio/instruments/snare.wav\n",
      "Moviepy - Building video video/output/e1.mp4.\n",
      "MoviePy - Writing audio in e1TEMP_MPY_wvf_snd.mp4\n"
     ]
    },
    {
     "name": "stderr",
     "output_type": "stream",
     "text": [
      "                                                                                             \r"
     ]
    },
    {
     "name": "stdout",
     "output_type": "stream",
     "text": [
      "MoviePy - Done.\n",
      "Moviepy - Writing video video/output/e1.mp4\n",
      "\n"
     ]
    },
    {
     "name": "stderr",
     "output_type": "stream",
     "text": [
      "                                                                                             \r"
     ]
    },
    {
     "name": "stdout",
     "output_type": "stream",
     "text": [
      "Moviepy - Done !\n",
      "Moviepy - video ready video/output/e1.mp4\n",
      "--------------------------------------------------\n",
      "e2\n",
      "audio/instruments/hihat.wav\n",
      "audio/instruments/cowbell.wav\n",
      "audio/instruments/kick.wav\n",
      "audio/instruments/snare.wav\n",
      "Moviepy - Building video video/output/e2.mp4.\n",
      "MoviePy - Writing audio in e2TEMP_MPY_wvf_snd.mp4\n"
     ]
    },
    {
     "name": "stderr",
     "output_type": "stream",
     "text": [
      "                                                                                             \r"
     ]
    },
    {
     "name": "stdout",
     "output_type": "stream",
     "text": [
      "MoviePy - Done.\n",
      "Moviepy - Writing video video/output/e2.mp4\n",
      "\n"
     ]
    },
    {
     "name": "stderr",
     "output_type": "stream",
     "text": [
      "                                                                                             \r"
     ]
    },
    {
     "name": "stdout",
     "output_type": "stream",
     "text": [
      "Moviepy - Done !\n",
      "Moviepy - video ready video/output/e2.mp4\n",
      "--------------------------------------------------\n",
      "e3\n",
      "audio/instruments/hihat.wav\n",
      "audio/instruments/cowbell.wav\n",
      "audio/instruments/kick.wav\n",
      "audio/instruments/snare.wav\n",
      "Moviepy - Building video video/output/e3.mp4.\n",
      "MoviePy - Writing audio in e3TEMP_MPY_wvf_snd.mp4\n"
     ]
    },
    {
     "name": "stderr",
     "output_type": "stream",
     "text": [
      "                                                                                             \r"
     ]
    },
    {
     "name": "stdout",
     "output_type": "stream",
     "text": [
      "MoviePy - Done.\n",
      "Moviepy - Writing video video/output/e3.mp4\n",
      "\n"
     ]
    },
    {
     "name": "stderr",
     "output_type": "stream",
     "text": [
      "                                                                                             \r"
     ]
    },
    {
     "name": "stdout",
     "output_type": "stream",
     "text": [
      "Moviepy - Done !\n",
      "Moviepy - video ready video/output/e3.mp4\n",
      "--------------------------------------------------\n",
      "j1\n",
      "audio/instruments/hihat.wav\n",
      "audio/instruments/cowbell.wav\n",
      "audio/instruments/kick.wav\n",
      "audio/instruments/snare.wav\n",
      "Moviepy - Building video video/output/j1.mp4.\n",
      "MoviePy - Writing audio in j1TEMP_MPY_wvf_snd.mp4\n"
     ]
    },
    {
     "name": "stderr",
     "output_type": "stream",
     "text": [
      "                                                                                             \r"
     ]
    },
    {
     "name": "stdout",
     "output_type": "stream",
     "text": [
      "MoviePy - Done.\n",
      "Moviepy - Writing video video/output/j1.mp4\n",
      "\n"
     ]
    },
    {
     "name": "stderr",
     "output_type": "stream",
     "text": [
      "                                                                                             \r"
     ]
    },
    {
     "name": "stdout",
     "output_type": "stream",
     "text": [
      "Moviepy - Done !\n",
      "Moviepy - video ready video/output/j1.mp4\n",
      "--------------------------------------------------\n",
      "j2\n",
      "audio/instruments/hihat.wav\n",
      "audio/instruments/cowbell.wav\n",
      "audio/instruments/kick.wav\n",
      "audio/instruments/snare.wav\n",
      "Moviepy - Building video video/output/j2.mp4.\n",
      "MoviePy - Writing audio in j2TEMP_MPY_wvf_snd.mp4\n"
     ]
    },
    {
     "name": "stderr",
     "output_type": "stream",
     "text": [
      "                                                                                             \r"
     ]
    },
    {
     "name": "stdout",
     "output_type": "stream",
     "text": [
      "MoviePy - Done.\n",
      "Moviepy - Writing video video/output/j2.mp4\n",
      "\n"
     ]
    },
    {
     "name": "stderr",
     "output_type": "stream",
     "text": [
      "                                                                                             \r"
     ]
    },
    {
     "name": "stdout",
     "output_type": "stream",
     "text": [
      "Moviepy - Done !\n",
      "Moviepy - video ready video/output/j2.mp4\n",
      "--------------------------------------------------\n",
      "u1\n",
      "audio/instruments/hihat.wav\n",
      "audio/instruments/cowbell.wav\n",
      "audio/instruments/kick.wav\n",
      "audio/instruments/snare.wav\n",
      "Moviepy - Building video video/output/u1.mp4.\n",
      "MoviePy - Writing audio in u1TEMP_MPY_wvf_snd.mp4\n"
     ]
    },
    {
     "name": "stderr",
     "output_type": "stream",
     "text": [
      "                                                                                             \r"
     ]
    },
    {
     "name": "stdout",
     "output_type": "stream",
     "text": [
      "MoviePy - Done.\n",
      "Moviepy - Writing video video/output/u1.mp4\n",
      "\n"
     ]
    },
    {
     "name": "stderr",
     "output_type": "stream",
     "text": [
      "                                                                                             \r"
     ]
    },
    {
     "name": "stdout",
     "output_type": "stream",
     "text": [
      "Moviepy - Done !\n",
      "Moviepy - video ready video/output/u1.mp4\n",
      "--------------------------------------------------\n",
      "u2\n",
      "audio/instruments/hihat.wav\n",
      "audio/instruments/cowbell.wav\n",
      "audio/instruments/kick.wav\n",
      "audio/instruments/snare.wav\n",
      "Moviepy - Building video video/output/u2.mp4.\n",
      "MoviePy - Writing audio in u2TEMP_MPY_wvf_snd.mp4\n"
     ]
    },
    {
     "name": "stderr",
     "output_type": "stream",
     "text": [
      "                                                                                             \r"
     ]
    },
    {
     "name": "stdout",
     "output_type": "stream",
     "text": [
      "MoviePy - Done.\n",
      "Moviepy - Writing video video/output/u2.mp4\n",
      "\n"
     ]
    },
    {
     "name": "stderr",
     "output_type": "stream",
     "text": [
      "                                                                                             \r"
     ]
    },
    {
     "name": "stdout",
     "output_type": "stream",
     "text": [
      "Moviepy - Done !\n",
      "Moviepy - video ready video/output/u2.mp4\n"
     ]
    }
   ],
   "source": [
    "# run audio and video construction for all videos\n",
    "vid_info_df = pd.read_csv(os.path.join('video', 'video_info.csv'), index_col='vid_name')\n",
    "\n",
    "# directories\n",
    "quant_load_dir = os.path.join('data', 'quantized_impacts')\n",
    "audio_original_dir = os.path.join('audio', 'original')\n",
    "audio_output_dir = os.path.join('audio', 'output')\n",
    "if not os.path.exists(audio_output_dir):\n",
    "    os.makedirs(audio_output_dir)\n",
    "\n",
    "video_original_dir = os.path.join('video', 'original')\n",
    "video_output_dir = os.path.join('video', 'output')\n",
    "if not os.path.exists(video_output_dir):\n",
    "    os.makedirs(video_output_dir)\n",
    "\n",
    "# get instrument paths\n",
    "instrument_dir = os.path.join('audio', 'instruments')\n",
    "instrument_names = ['hihat.wav', 'cowbell.wav', 'kick.wav', 'snare.wav']\n",
    "instrument_paths = [os.path.join(instrument_dir, name) for name in instrument_names]\n",
    "\n",
    "# iterate over all videos\n",
    "for vid_name in vid_info_df.index:\n",
    "    if vid_name != 'group':\n",
    "        print(50 * '-')\n",
    "        print(vid_name)\n",
    "        \n",
    "        # load quantized impacts\n",
    "        with open(os.path.join(quant_load_dir, f'{vid_name}_quantized_impacts.pkl'), 'rb') as f:\n",
    "            quantized_impacts = pickle.load(f)\n",
    "        \n",
    "        # construct audio\n",
    "        audio_original_path = os.path.join(audio_original_dir, f'{vid_name}.wav')\n",
    "        audio_output_path = os.path.join(audio_output_dir, f'{vid_name}.wav')\n",
    "        construct_audio(quantized_impacts, instrument_paths, audio_output_path, audio_load_path=audio_original_path)\n",
    "\n",
    "        # combine audio and video\n",
    "        video_original_path = os.path.join(video_original_dir, f'{vid_name}.mov')\n",
    "        video_output_path = os.path.join(video_output_dir, f'{vid_name}.mp4')\n",
    "        combine_audio_video(video_original_path, audio_output_path, video_output_path)"
   ]
  }
 ],
 "metadata": {
  "kernelspec": {
   "display_name": "Python [conda env:video]",
   "language": "python",
   "name": "conda-env-video-py"
  },
  "language_info": {
   "codemirror_mode": {
    "name": "ipython",
    "version": 3
   },
   "file_extension": ".py",
   "mimetype": "text/x-python",
   "name": "python",
   "nbconvert_exporter": "python",
   "pygments_lexer": "ipython3",
   "version": "3.8.12"
  }
 },
 "nbformat": 4,
 "nbformat_minor": 5
}

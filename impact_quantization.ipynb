{
 "cells": [
  {
   "cell_type": "markdown",
   "id": "59505218",
   "metadata": {},
   "source": [
    "# Impact Quantization"
   ]
  },
  {
   "cell_type": "code",
   "execution_count": 1,
   "id": "1c74607f",
   "metadata": {
    "ExecuteTime": {
     "end_time": "2022-10-20T00:24:13.503063Z",
     "start_time": "2022-10-20T00:24:12.778780Z"
    }
   },
   "outputs": [],
   "source": [
    "# imports\n",
    "import os\n",
    "import numpy as np\n",
    "import pickle"
   ]
  },
  {
   "cell_type": "code",
   "execution_count": 2,
   "id": "1a21c315",
   "metadata": {
    "ExecuteTime": {
     "end_time": "2022-10-20T00:24:13.514348Z",
     "start_time": "2022-10-20T00:24:13.504869Z"
    }
   },
   "outputs": [],
   "source": [
    "# load impact points\n",
    "load_dir = os.path.join('data', 'impact_points')\n",
    "vid_name = 'test'\n",
    "impact_points = np.load(os.path.join(load_dir, f'{vid_name}_impact_points.npy'))\n",
    "time_stamps = np.load(os.path.join(load_dir, f'{vid_name}_time_stamps.npy'))"
   ]
  },
  {
   "cell_type": "code",
   "execution_count": 3,
   "id": "a8632642",
   "metadata": {
    "ExecuteTime": {
     "end_time": "2022-10-20T00:24:13.526682Z",
     "start_time": "2022-10-20T00:24:13.515813Z"
    }
   },
   "outputs": [
    {
     "name": "stdout",
     "output_type": "stream",
     "text": [
      "[array([0, 1, 2, 3]), array([4, 5, 6, 7]), array([ 8,  9, 10, 11]), array([12, 13, 14, 15])]\n"
     ]
    }
   ],
   "source": [
    "# function to quantize impact points\n",
    "def quantize_impact_points(impact_points, time_stamps):\n",
    "    assert len(impact_points) == len(time_stamps)\n",
    "    n_frames, n_limbs = impact_points.shape\n",
    "    \n",
    "    quantized_impacts = []\n",
    "    for l in range(n_limbs):\n",
    "        quantized_impacts.append(np.arange(4 * l, 4 * (l + 1)))\n",
    "    \n",
    "    return quantized_impacts\n",
    "\n",
    "# testing\n",
    "quantized_impacts = quantize_impact_points(impact_points, time_stamps)\n",
    "print(quantized_impacts)"
   ]
  },
  {
   "cell_type": "code",
   "execution_count": 4,
   "id": "044c272d",
   "metadata": {
    "ExecuteTime": {
     "end_time": "2022-10-20T00:24:13.530896Z",
     "start_time": "2022-10-20T00:24:13.527984Z"
    }
   },
   "outputs": [],
   "source": [
    "# save results to file\n",
    "save_dir = os.path.join('data', 'quantized_impacts')\n",
    "if not os.path.exists(save_dir):\n",
    "    os.makedirs(save_dir)\n",
    "vid_name = 'test'\n",
    "\n",
    "with open(os.path.join(save_dir, f'{vid_name}_quantized_impacts.pkl'), 'wb') as f:\n",
    "    pickle.dump(quantized_impacts, f)"
   ]
  }
 ],
 "metadata": {
  "kernelspec": {
   "display_name": "Python [conda env:video]",
   "language": "python",
   "name": "conda-env-video-py"
  },
  "language_info": {
   "codemirror_mode": {
    "name": "ipython",
    "version": 3
   },
   "file_extension": ".py",
   "mimetype": "text/x-python",
   "name": "python",
   "nbconvert_exporter": "python",
   "pygments_lexer": "ipython3",
   "version": "3.8.12"
  }
 },
 "nbformat": 4,
 "nbformat_minor": 5
}

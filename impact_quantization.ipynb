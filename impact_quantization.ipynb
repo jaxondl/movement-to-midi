{
 "cells": [
  {
   "cell_type": "markdown",
   "id": "59505218",
   "metadata": {},
   "source": [
    "# Impact Quantization"
   ]
  },
  {
   "cell_type": "code",
   "execution_count": 1,
   "id": "1c74607f",
   "metadata": {
    "ExecuteTime": {
     "end_time": "2022-10-25T05:26:39.954117Z",
     "start_time": "2022-10-25T05:26:38.952488Z"
    }
   },
   "outputs": [],
   "source": [
    "# imports\n",
    "import os\n",
    "import numpy as np\n",
    "import pickle"
   ]
  },
  {
   "cell_type": "code",
   "execution_count": 2,
   "id": "1a21c315",
   "metadata": {
    "ExecuteTime": {
     "end_time": "2022-10-25T05:26:39.960467Z",
     "start_time": "2022-10-25T05:26:39.955712Z"
    }
   },
   "outputs": [
    {
     "name": "stdout",
     "output_type": "stream",
     "text": [
      "[0 1 2 3 4 5 6 7 8 9]\n",
      "(10, 4)\n"
     ]
    }
   ],
   "source": [
    "# load impact points\n",
    "load_dir = os.path.join('data', 'impact_points')\n",
    "vid_name = 'test'\n",
    "impact_points = np.load(os.path.join(load_dir, f'{vid_name}_impact_points.npy'))\n",
    "time_stamps = np.load(os.path.join(load_dir, f'{vid_name}_time_stamps.npy'))\n",
    "print(time_stamps)\n",
    "print(impact_points.shape)"
   ]
  },
  {
   "cell_type": "code",
   "execution_count": 3,
   "id": "a8632642",
   "metadata": {
    "ExecuteTime": {
     "end_time": "2022-10-25T05:26:39.968199Z",
     "start_time": "2022-10-25T05:26:39.962221Z"
    }
   },
   "outputs": [
    {
     "name": "stdout",
     "output_type": "stream",
     "text": [
      "[[ True False  True  True]\n",
      " [False  True  True False]\n",
      " [False  True False  True]\n",
      " [ True  True False False]\n",
      " [False  True False  True]\n",
      " [ True False  True  True]\n",
      " [False False  True False]\n",
      " [False False  True  True]\n",
      " [ True False False False]\n",
      " [ True  True  True  True]]\n",
      "[array([0.25, 3.25, 5.25, 8.25, 9.25]), array([1.25, 2.25, 3.25, 4.25, 9.25]), array([0.25, 1.25, 5.25, 6.25, 7.25, 9.25]), array([0.25, 2.25, 4.25, 5.25, 7.25, 9.25])]\n"
     ]
    }
   ],
   "source": [
    "# function to quantize impact points\n",
    "def quantize_impact_points(impact_points, time_stamps, quant_params):\n",
    "    assert len(impact_points) == len(time_stamps)\n",
    "    n_frames, n_limbs = impact_points.shape\n",
    "    \n",
    "    # quantize time stamps\n",
    "    dt = 60 / (quant_params['bpm'] * quant_params['subdiv'])\n",
    "    quantized_time_stamps = np.round((time_stamps - quant_params['beat_ref']) / dt) * dt + quant_params['beat_ref']\n",
    "    quantized_time_stamps[quantized_time_stamps < 0] = 0\n",
    "    \n",
    "    # format quantized impacts\n",
    "    quantized_impacts = []\n",
    "    for l in range(n_limbs):\n",
    "        quantized_impacts.append(quantized_time_stamps[impact_points[:,l]])\n",
    "    \n",
    "    return quantized_impacts\n",
    "\n",
    "# testing\n",
    "impact_points = np.random.choice([True, False], size=(10, 4))\n",
    "print(impact_points)\n",
    "\n",
    "quant_params = {\n",
    "    'beat_ref': 0.25,\n",
    "    'bpm': 120,\n",
    "    'subdiv': 1\n",
    "}\n",
    "quantized_impacts = quantize_impact_points(impact_points, time_stamps, quant_params)\n",
    "print(quantized_impacts)"
   ]
  },
  {
   "cell_type": "code",
   "execution_count": 4,
   "id": "044c272d",
   "metadata": {
    "ExecuteTime": {
     "end_time": "2022-10-25T05:26:39.974018Z",
     "start_time": "2022-10-25T05:26:39.970356Z"
    }
   },
   "outputs": [],
   "source": [
    "# save results to file\n",
    "save_dir = os.path.join('data', 'quantized_impacts')\n",
    "if not os.path.exists(save_dir):\n",
    "    os.makedirs(save_dir)\n",
    "vid_name = 'test'\n",
    "\n",
    "with open(os.path.join(save_dir, f'{vid_name}_quantized_impacts.pkl'), 'wb') as f:\n",
    "    pickle.dump(quantized_impacts, f)"
   ]
  }
 ],
 "metadata": {
  "kernelspec": {
   "display_name": "Python [conda env:video]",
   "language": "python",
   "name": "conda-env-video-py"
  },
  "language_info": {
   "codemirror_mode": {
    "name": "ipython",
    "version": 3
   },
   "file_extension": ".py",
   "mimetype": "text/x-python",
   "name": "python",
   "nbconvert_exporter": "python",
   "pygments_lexer": "ipython3",
   "version": "3.8.12"
  }
 },
 "nbformat": 4,
 "nbformat_minor": 5
}

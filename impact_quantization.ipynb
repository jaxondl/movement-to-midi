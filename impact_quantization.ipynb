{
 "cells": [
  {
   "cell_type": "markdown",
   "id": "59505218",
   "metadata": {},
   "source": [
    "# Impact Quantization"
   ]
  },
  {
   "cell_type": "code",
   "execution_count": 1,
   "id": "1c74607f",
   "metadata": {
    "ExecuteTime": {
     "end_time": "2022-11-16T20:51:03.715585Z",
     "start_time": "2022-11-16T20:51:02.612352Z"
    }
   },
   "outputs": [],
   "source": [
    "# imports\n",
    "import os\n",
    "import numpy as np\n",
    "import pandas as pd\n",
    "import pickle"
   ]
  },
  {
   "cell_type": "markdown",
   "id": "1714e4c8",
   "metadata": {},
   "source": [
    "## Quantize Impact Points"
   ]
  },
  {
   "cell_type": "code",
   "execution_count": 2,
   "id": "1a21c315",
   "metadata": {
    "ExecuteTime": {
     "end_time": "2022-11-16T20:51:03.725790Z",
     "start_time": "2022-11-16T20:51:03.717175Z"
    },
    "scrolled": true
   },
   "outputs": [
    {
     "data": {
      "text/plain": [
       "((4606, 4), (4606,))"
      ]
     },
     "execution_count": 2,
     "metadata": {},
     "output_type": "execute_result"
    }
   ],
   "source": [
    "# load impact points\n",
    "load_dir = os.path.join('data', 'impact_points')\n",
    "vid_name = 'j1'\n",
    "impact_points = np.load(os.path.join(load_dir, f'{vid_name}_impact_points.npy'))\n",
    "time_stamps = np.load(os.path.join(load_dir, f'{vid_name}_time_stamps.npy'))\n",
    "impact_points.shape, time_stamps.shape"
   ]
  },
  {
   "cell_type": "code",
   "execution_count": 3,
   "id": "a8632642",
   "metadata": {
    "ExecuteTime": {
     "end_time": "2022-11-16T20:51:03.736928Z",
     "start_time": "2022-11-16T20:51:03.729476Z"
    }
   },
   "outputs": [
    {
     "data": {
      "text/plain": [
       "[array([], dtype=float64),\n",
       " array([], dtype=float64),\n",
       " array([], dtype=float64),\n",
       " array([], dtype=float64)]"
      ]
     },
     "execution_count": 3,
     "metadata": {},
     "output_type": "execute_result"
    }
   ],
   "source": [
    "# function to quantize impact points\n",
    "def quantize_impact_points(impact_points, time_stamps, quant_params):\n",
    "    assert len(impact_points) == len(time_stamps)\n",
    "    n_frames, n_limbs = impact_points.shape\n",
    "    \n",
    "    # quantize time stamps\n",
    "    dt = 60 / (quant_params['bpm'] * quant_params['subdiv'])\n",
    "    quantized_time_stamps = np.round((time_stamps - quant_params['beat_ref']) / dt) * dt + quant_params['beat_ref']\n",
    "    impact_points[quantized_time_stamps < 0] = np.zeros((n_limbs), dtype=bool)\n",
    "    quantized_time_stamps[quantized_time_stamps < 0] = 0\n",
    "    \n",
    "    # format quantized impacts\n",
    "    quantized_impacts = []\n",
    "    for l in range(n_limbs):\n",
    "        quantized_impacts.append(quantized_time_stamps[impact_points[:,l]])\n",
    "    \n",
    "    return quantized_impacts\n",
    "\n",
    "# quant params for j1\n",
    "quant_params = {\n",
    "    'beat_ref': 16.3,\n",
    "    'bpm': 136,\n",
    "    'subdiv': 2\n",
    "}\n",
    "quantized_impacts = quantize_impact_points(impact_points, time_stamps, quant_params)\n",
    "quantized_impacts"
   ]
  },
  {
   "cell_type": "code",
   "execution_count": 4,
   "id": "044c272d",
   "metadata": {
    "ExecuteTime": {
     "end_time": "2022-11-16T20:51:03.741739Z",
     "start_time": "2022-11-16T20:51:03.738435Z"
    }
   },
   "outputs": [],
   "source": [
    "# save results to file\n",
    "save_dir = os.path.join('data', 'quantized_impacts')\n",
    "if not os.path.exists(save_dir):\n",
    "    os.makedirs(save_dir)\n",
    "\n",
    "with open(os.path.join(save_dir, f'{vid_name}_quantized_impacts.pkl'), 'wb') as f:\n",
    "    pickle.dump(quantized_impacts, f)"
   ]
  },
  {
   "cell_type": "markdown",
   "id": "3aa9be6d",
   "metadata": {},
   "source": [
    "## Run on All Videos"
   ]
  },
  {
   "cell_type": "code",
   "execution_count": 5,
   "id": "9f833184",
   "metadata": {
    "ExecuteTime": {
     "end_time": "2022-11-16T20:51:03.768627Z",
     "start_time": "2022-11-16T20:51:03.743103Z"
    }
   },
   "outputs": [
    {
     "name": "stdout",
     "output_type": "stream",
     "text": [
      "----------\n",
      "a1\n",
      "----------\n",
      "a2\n",
      "----------\n",
      "e1\n",
      "----------\n",
      "e2\n",
      "----------\n",
      "e3\n",
      "----------\n",
      "j1\n",
      "----------\n",
      "j2\n",
      "----------\n",
      "u1\n",
      "----------\n",
      "u2\n"
     ]
    }
   ],
   "source": [
    "# run impact detection for all videos\n",
    "load_dir = os.path.join('data', 'impact_points')\n",
    "vid_info_df = pd.read_csv(os.path.join('video', 'video_info.csv'), index_col='vid_name')\n",
    "\n",
    "save_dir = os.path.join('data', 'quantized_impacts')\n",
    "if not os.path.exists(save_dir):\n",
    "    os.makedirs(save_dir)\n",
    "\n",
    "# iterate over all videos\n",
    "for vid_name in vid_info_df.index:\n",
    "    if vid_name != 'group':\n",
    "        print(10 * '-')\n",
    "        print(vid_name)\n",
    "        \n",
    "        # load impact points and time stamps\n",
    "        impact_points = np.load(os.path.join(load_dir, f'{vid_name}_impact_points.npy'))\n",
    "        time_stamps = np.load(os.path.join(load_dir, f'{vid_name}_time_stamps.npy'))\n",
    "         \n",
    "        # quantize impact points and save\n",
    "        quant_params = {\n",
    "            'beat_ref': vid_info_df.loc[vid_name]['beat_ref'],\n",
    "            'bpm': vid_info_df.loc[vid_name]['bpm'],\n",
    "            'subdiv': vid_info_df.loc[vid_name]['subdiv']\n",
    "        }\n",
    "        quantized_impacts = quantize_impact_points(impact_points, time_stamps, quant_params)\n",
    "        with open(os.path.join(save_dir, f'{vid_name}_quantized_impacts.pkl'), 'wb') as f:\n",
    "            pickle.dump(quantized_impacts, f)"
   ]
  }
 ],
 "metadata": {
  "kernelspec": {
   "display_name": "Python [conda env:video]",
   "language": "python",
   "name": "conda-env-video-py"
  },
  "language_info": {
   "codemirror_mode": {
    "name": "ipython",
    "version": 3
   },
   "file_extension": ".py",
   "mimetype": "text/x-python",
   "name": "python",
   "nbconvert_exporter": "python",
   "pygments_lexer": "ipython3",
   "version": "3.8.12"
  }
 },
 "nbformat": 4,
 "nbformat_minor": 5
}
